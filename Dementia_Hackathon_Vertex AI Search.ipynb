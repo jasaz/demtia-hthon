{
 "cells": [
  {
   "cell_type": "code",
   "execution_count": 19,
   "id": "3f95fe74-145d-4d3a-bcbc-7aefddadcad5",
   "metadata": {},
   "outputs": [
    {
     "name": "stderr",
     "output_type": "stream",
     "text": [
      "Your browser has been opened to visit:\n",
      "\n",
      "    https://accounts.google.com/o/oauth2/auth?response_type=code&client_id=764086051850-6qr4p6gpi6hn506pt8ejuq83di341hur.apps.googleusercontent.com&redirect_uri=http%3A%2F%2Flocalhost%3A8085%2F&scope=openid+https%3A%2F%2Fwww.googleapis.com%2Fauth%2Fuserinfo.email+https%3A%2F%2Fwww.googleapis.com%2Fauth%2Fcloud-platform+https%3A%2F%2Fwww.googleapis.com%2Fauth%2Fsqlservice.login&state=Tyl2uIlK696vDs6cAcp5BnpZoyvxxH&access_type=offline&code_challenge=WHhJLV9TjVXDIXHHrMuU9Fv82Dzsx97Qpt0p0GCBWyA&code_challenge_method=S256\n",
      "\n",
      "\n",
      "Credentials saved to file: [C:\\Users\\sandi\\AppData\\Roaming\\gcloud\\application_default_credentials.json]\n",
      "\n",
      "These credentials will be used by any library that requests Application Default Credentials (ADC).\n",
      "\n",
      "Quota project \"cloudrun-test-415115\" was added to ADC which can be used by Google client libraries for billing and quota. Note that some services may still bill the project owning the resource.\n"
     ]
    }
   ],
   "source": [
    "!gcloud auth application-default login"
   ]
  },
  {
   "cell_type": "code",
   "execution_count": 20,
   "id": "c8378c75-2509-48ce-95e2-2c2b1a159fd6",
   "metadata": {},
   "outputs": [],
   "source": [
    "from google.cloud import storage\n",
    "from vertexai.language_models import TextEmbeddingModel\n",
    "from google.cloud import aiplatform\n",
    "import PyPDF2\n",
    "\n",
    "import re\n",
    "import os\n",
    "import random\n",
    "import json\n",
    "import uuid"
   ]
  },
  {
   "cell_type": "code",
   "execution_count": 41,
   "id": "e7e409ce-1939-47b9-804c-37de7c126fb8",
   "metadata": {},
   "outputs": [],
   "source": [
    "#Initialize variables\n",
    "\n",
    "project = \"cloudrun-test-415115\"\n",
    "location = \"us-central1\"\n",
    "\n",
    "pdf_path = \"D:\\Projects\\Dementia-Hackathon\\Data\\WhatIsDementia.pdf\"\n",
    "bucket_name = \"dementia-hackathon-text-embeddings\"\n",
    "embed_file_path = \"D:\\Projects\\Dementia-Hackathon\\Files\\dementia_embeddings.json\"\n",
    "sentence_file_path = \"D:\\Projects\\Dementia-Hackathon\\Files\\dementia_sentences.json\"\n",
    "index_name = \"dementia_index\""
   ]
  },
  {
   "cell_type": "code",
   "execution_count": 22,
   "id": "67d41e9a-4c5f-4aa9-8f26-e0e961e127ec",
   "metadata": {},
   "outputs": [],
   "source": [
    "# Extract sentences from PDF\n",
    "\n",
    "def extract_sentences_from_pdf(pdf_path):\n",
    "    with open(pdf_path, 'rb') as file:\n",
    "        reader = PyPDF2.PdfReader(file)\n",
    "        text = \"\"\n",
    "        for page in reader.pages:\n",
    "            if page.extract_text() is not None:\n",
    "                text += page.extract_text() + \" \"\n",
    "    sentences = [sentence.strip() for sentence in text.split('. ') if sentence.strip()]\n",
    "    return sentences"
   ]
  },
  {
   "cell_type": "code",
   "execution_count": 23,
   "id": "8c3661bd-e4be-4ae9-a91a-703f13260067",
   "metadata": {},
   "outputs": [],
   "source": [
    "# Generate Embeddings\n",
    "\n",
    "def generate_text_embeddings(sentences) -> list: \n",
    "  aiplatform.init(project=project,location=location)\n",
    "  model = TextEmbeddingModel.from_pretrained(\"textembedding-gecko@001\")\n",
    "  embeddings = model.get_embeddings(sentences)\n",
    "  vectors = [embedding.values for embedding in embeddings]\n",
    "  return vectors"
   ]
  },
  {
   "cell_type": "code",
   "execution_count": 24,
   "id": "f0fc5b83-8f99-44b1-862f-4a43204ae5c0",
   "metadata": {},
   "outputs": [],
   "source": [
    "#Save Embeddings\n",
    "\n",
    "def generate_and_save_embeddings(pdf_path, sentence_file_path, embed_file_path):\n",
    "    def clean_text(text):\n",
    "        cleaned_text = re.sub(r'\\u2022', '', text)  # Remove bullet points\n",
    "        cleaned_text = re.sub(r'\\s+', ' ', cleaned_text).strip()  # Remove extra whitespaces and strip\n",
    "        return cleaned_text\n",
    "    \n",
    "    sentences = extract_sentences_from_pdf(pdf_path)\n",
    "    if sentences:\n",
    "        embeddings = generate_text_embeddings(sentences)\n",
    "        \n",
    "        with open(embed_file_path, 'w') as embed_file, open(sentence_file_path, 'w') as sentence_file:\n",
    "            for sentence, embedding in zip(sentences, embeddings):\n",
    "                cleaned_sentence = clean_text(sentence)\n",
    "                id = str(uuid.uuid4())\n",
    "                \n",
    "                embed_item = {\"id\": id, \"embedding\": embedding}\n",
    "                sentence_item = {\"id\": id, \"sentence\": cleaned_sentence}\n",
    "                \n",
    "                json.dump(sentence_item, sentence_file)\n",
    "                sentence_file.write('\\n') \n",
    "                json.dump(embed_item, embed_file)\n",
    "                embed_file.write('\\n')  "
   ]
  },
  {
   "cell_type": "code",
   "execution_count": 39,
   "id": "a9451169-7b17-417d-b10e-4278fa74ee5c",
   "metadata": {},
   "outputs": [],
   "source": [
    "#Upload file to GCS bucket\n",
    "\n",
    "def upload_file(bucket_name,file_path):\n",
    "    storage_client = storage.Client()\n",
    "    bucket = storage_client.create_bucket(bucket_name,location=location)\n",
    "    file_name = file_path.split(\"\\\\\")[-1] # This path slicing is for Windows\n",
    "    blob = bucket.blob(file_name)\n",
    "    blob.upload_from_filename(file_path)"
   ]
  },
  {
   "cell_type": "code",
   "execution_count": 26,
   "id": "79dc50da-84ca-4bd7-a734-15adcdadb836",
   "metadata": {},
   "outputs": [],
   "source": [
    "#Create Vector Index\n",
    "\n",
    "def create_vector_index(bucket_name, index_name):\n",
    "    dt_rag_index = aiplatform.MatchingEngineIndex.create_tree_ah_index(\n",
    "    display_name = index_name,\n",
    "    contents_delta_uri = \"gs://\"+bucket_name,\n",
    "    dimensions = 768,\n",
    "    approximate_neighbors_count = 10,\n",
    "    )\n",
    "                  \n",
    "    dt_rag_index_endpoint = aiplatform.MatchingEngineIndexEndpoint.create(\n",
    "    display_name = index_name,\n",
    "    public_endpoint_enabled = True\n",
    "    )                      \n",
    "\n",
    "    dt_rag_index_endpoint.deploy_index(\n",
    "    index = dt_rag_index, deployed_index_id = index_name\n",
    "    )"
   ]
  },
  {
   "cell_type": "code",
   "execution_count": 27,
   "id": "d276cb9b-78ea-4bad-8d12-3eb68b3e012b",
   "metadata": {},
   "outputs": [],
   "source": [
    "generate_and_save_embeddings(pdf_path,sentence_file_path,embed_file_path)"
   ]
  },
  {
   "cell_type": "code",
   "execution_count": 42,
   "id": "c6028596-760b-4ed2-b27a-16dae603a1de",
   "metadata": {},
   "outputs": [],
   "source": [
    "upload_file(bucket_name,embed_file_path)"
   ]
  },
  {
   "cell_type": "code",
   "execution_count": 43,
   "id": "fd549a5c-4139-4e7c-8a63-bf9b1d58e27c",
   "metadata": {},
   "outputs": [
    {
     "name": "stdout",
     "output_type": "stream",
     "text": [
      "Creating MatchingEngineIndex\n",
      "Create MatchingEngineIndex backing LRO: projects/1025759812276/locations/us-central1/indexes/4329942760879554560/operations/2854268173513916416\n",
      "MatchingEngineIndex created. Resource name: projects/1025759812276/locations/us-central1/indexes/4329942760879554560\n",
      "To use this MatchingEngineIndex in another session:\n",
      "index = aiplatform.MatchingEngineIndex('projects/1025759812276/locations/us-central1/indexes/4329942760879554560')\n",
      "Creating MatchingEngineIndexEndpoint\n",
      "Create MatchingEngineIndexEndpoint backing LRO: projects/1025759812276/locations/us-central1/indexEndpoints/4083089206304309248/operations/7130436019702202368\n",
      "MatchingEngineIndexEndpoint created. Resource name: projects/1025759812276/locations/us-central1/indexEndpoints/4083089206304309248\n",
      "To use this MatchingEngineIndexEndpoint in another session:\n",
      "index_endpoint = aiplatform.MatchingEngineIndexEndpoint('projects/1025759812276/locations/us-central1/indexEndpoints/4083089206304309248')\n",
      "Deploying index MatchingEngineIndexEndpoint index_endpoint: projects/1025759812276/locations/us-central1/indexEndpoints/4083089206304309248\n",
      "Deploy index MatchingEngineIndexEndpoint index_endpoint backing LRO: projects/1025759812276/locations/us-central1/indexEndpoints/4083089206304309248/operations/1365828496667967488\n",
      "MatchingEngineIndexEndpoint index_endpoint Deployed index. Resource name: projects/1025759812276/locations/us-central1/indexEndpoints/4083089206304309248\n"
     ]
    }
   ],
   "source": [
    "create_vector_index(bucket_name, index_name)"
   ]
  },
  {
   "cell_type": "code",
   "execution_count": null,
   "id": "4dc6c54e-cb80-4384-b703-fa9604f9a9c1",
   "metadata": {},
   "outputs": [],
   "source": []
  }
 ],
 "metadata": {
  "kernelspec": {
   "display_name": ".dementia_hackathon_vertex_ai",
   "language": "python",
   "name": ".dementia_hackathon_vertex_ai"
  },
  "language_info": {
   "codemirror_mode": {
    "name": "ipython",
    "version": 3
   },
   "file_extension": ".py",
   "mimetype": "text/x-python",
   "name": "python",
   "nbconvert_exporter": "python",
   "pygments_lexer": "ipython3",
   "version": "3.11.9"
  }
 },
 "nbformat": 4,
 "nbformat_minor": 5
}
