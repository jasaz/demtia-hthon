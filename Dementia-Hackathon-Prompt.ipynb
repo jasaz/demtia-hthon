{
 "cells": [
  {
   "cell_type": "code",
   "execution_count": 1,
   "id": "bfb0171a-8a8f-40df-81a5-ef1d3b01157e",
   "metadata": {},
   "outputs": [],
   "source": [
    "from vertexai.language_models import TextEmbeddingModel\n",
    "from google.cloud import aiplatform\n",
    "import vertexai\n",
    "from vertexai.preview.generative_models import GenerativeModel, Part\n",
    "import json\n",
    "import os"
   ]
  },
  {
   "cell_type": "code",
   "execution_count": 23,
   "id": "845bc67f-75d0-4eea-89ba-66ef22a4fd57",
   "metadata": {},
   "outputs": [],
   "source": [
    "#Initialize Variables\n",
    "project = \"cloudrun-test-415115\"\n",
    "location=\"us-central1\"\n",
    "sentence_file_path = \"D:\\Projects\\Dementia-Hackathon\\Files\\dementia_sentences.json\"\n",
    "index_name=\"dementia_index\" #Get this from the console or the previous step\n",
    "index_endpoint = \"4083089206304309248\""
   ]
  },
  {
   "cell_type": "markdown",
   "id": "7e4ae59c-0031-4902-88e5-0abcfcde1f8c",
   "metadata": {},
   "source": []
  },
  {
   "cell_type": "code",
   "execution_count": 20,
   "id": "908b4d79-89df-4cd8-8078-219da3cfcfb9",
   "metadata": {},
   "outputs": [],
   "source": [
    "#Initialize the Model\n",
    "aiplatform.init(project=project,location=location)\n",
    "vertexai.init()\n",
    "model = GenerativeModel(\"gemini-pro\")\n",
    "dt_index_ep = aiplatform.MatchingEngineIndexEndpoint(index_endpoint_name=index_endpoint)"
   ]
  },
  {
   "cell_type": "code",
   "execution_count": 21,
   "id": "aa261e0b-3beb-46d5-bf89-9fca3fc228e1",
   "metadata": {},
   "outputs": [],
   "source": [
    "#Generate Embeddings\n",
    "\n",
    "def generate_text_embeddings(sentences) -> list:    \n",
    "    model = TextEmbeddingModel.from_pretrained(\"textembedding-gecko@001\")\n",
    "    embeddings = model.get_embeddings(sentences)\n",
    "    vectors = [embedding.values for embedding in embeddings]\n",
    "    return vectors"
   ]
  },
  {
   "cell_type": "code",
   "execution_count": 22,
   "id": "c00cca08-543c-4eaf-981e-b4f2fb244821",
   "metadata": {},
   "outputs": [],
   "source": [
    "#Generate Context\n",
    "\n",
    "def generate_context(ids,data):\n",
    "    concatenated_names = ''\n",
    "    for id in ids:\n",
    "        for entry in data:\n",
    "            if entry['id'] == id:\n",
    "                concatenated_names += entry['sentence'] + \"\\n\" \n",
    "    return concatenated_names.strip()"
   ]
  },
  {
   "cell_type": "code",
   "execution_count": 26,
   "id": "fa9b3d8d-ec79-4717-a7bc-3b75a8f69e05",
   "metadata": {},
   "outputs": [],
   "source": [
    "def load_file(file_path):\n",
    "    data = []\n",
    "    with open(file_path, 'r') as file:\n",
    "        for line in file:\n",
    "            entry = json.loads(line)\n",
    "            data.append(entry)\n",
    "    return data"
   ]
  },
  {
   "cell_type": "code",
   "execution_count": 27,
   "id": "2c7cef24-cc64-466c-b11f-ca1dc67b372b",
   "metadata": {},
   "outputs": [],
   "source": [
    "data=load_file(sentence_file_path)"
   ]
  },
  {
   "cell_type": "code",
   "execution_count": 50,
   "id": "da93e0af-22f1-47ef-b0f5-b935dca2a638",
   "metadata": {},
   "outputs": [],
   "source": [
    "query=[\"What are the support available for Dementia\"]\n",
    "qry_emb=generate_text_embeddings(query)"
   ]
  },
  {
   "cell_type": "code",
   "execution_count": 51,
   "id": "c79ea6ec-b1f3-45ec-9945-9d04dd0208fe",
   "metadata": {},
   "outputs": [],
   "source": [
    "response = dt_index_ep.find_neighbors(\n",
    "    deployed_index_id = index_name,\n",
    "    queries = [qry_emb[0]],\n",
    "    num_neighbors = 10\n",
    ")"
   ]
  },
  {
   "cell_type": "code",
   "execution_count": 52,
   "id": "6181e19f-ec88-4105-aac2-055c4dce1294",
   "metadata": {},
   "outputs": [],
   "source": [
    "matching_ids = [neighbor.id for sublist in response for neighbor in sublist]\n",
    "context = generate_context(matching_ids,data)"
   ]
  },
  {
   "cell_type": "code",
   "execution_count": 53,
   "id": "c3563e8f-aa37-46e9-855c-301f56dd4807",
   "metadata": {},
   "outputs": [],
   "source": [
    "prompt=f\"Based on the context delimited in backticks, answer the query. ```{context}``` {query}\""
   ]
  },
  {
   "cell_type": "code",
   "execution_count": 54,
   "id": "0210b7a8-7cae-443d-bb08-672a6f52e0ad",
   "metadata": {},
   "outputs": [],
   "source": [
    "chat = model.start_chat(history=[])\n",
    "response = chat.send_message(prompt)"
   ]
  },
  {
   "cell_type": "code",
   "execution_count": 55,
   "id": "b11770ca-9627-403e-9956-ef0bdb133704",
   "metadata": {},
   "outputs": [
    {
     "name": "stdout",
     "output_type": "stream",
     "text": [
      "## Support Available for People with Dementia\n",
      "\n",
      "There's a range of support available for people with dementia and their families, both at home and in the community. Here are some key points:\n",
      "\n",
      "**At Home:**\n",
      "\n",
      "* **Family and friends:** Often the first and most important source of support.\n",
      "* **Homecare workers/personal assistants:** Help with tasks like cooking, cleaning, and personal care.\n",
      "* **Respite care:** Offers temporary breaks for family caregivers.\n",
      "* **Specialist dementia nurses:** Provide practical, clinical, and emotional support.\n",
      "* **Equipment and adaptations:** Can make the home environment safer and more manageable. (See factsheet 429)\n",
      "* **Activities handbook:** Provides ideas for engaging activities. (See booklet 77AC)\n",
      "* **Keeping active and involved:** Important for physical and mental well-being. (See booklet 1506)\n",
      "\n",
      "**In the Community:**\n",
      "\n",
      "* **Local dementia advisers and support workers:** Offer advice, information, and practical support.\n",
      "* **Day centres:** Provide activities, social interaction, and support in a safe environment.\n",
      "* **Dementia support groups:** For people with dementia and their families to share experiences and advice.\n",
      "* **Online discussion forums:** Connect with others online for support and information.\n",
      "* **Music therapy:** Can be helpful for managing symptoms and improving quality of life. (See Music for Dementia)\n",
      "\n",
      "**Additional Resources:**\n",
      "\n",
      "* **Dementia support line:** 0333 150 3456 (Alzheimer's Society)\n",
      "* **Alzheimer's Society website:** alzheimers.org.uk\n",
      "* **Factsheets:** 444, 526, and 429 (Alzheimer's Society)\n",
      "* **Booklets:** 77AC and 1506 (Alzheimer's Society)\n",
      "* **Other useful organizations:** British Heart Foundation (BHF)\n",
      "\n",
      "## Remember:\n",
      "\n",
      "* No one has to face dementia alone. \n",
      "* There's a range of support available, so don't hesitate to reach out for help. \n",
      "* Early diagnosis and intervention are key to maximizing quality of life for people with dementia.\n"
     ]
    }
   ],
   "source": [
    "print(response.text)"
   ]
  },
  {
   "cell_type": "code",
   "execution_count": null,
   "id": "49a409af-80d8-4dfb-adbc-35553b85f7e3",
   "metadata": {},
   "outputs": [],
   "source": []
  }
 ],
 "metadata": {
  "kernelspec": {
   "display_name": ".dementia_hackathon_vertex_ai",
   "language": "python",
   "name": ".dementia_hackathon_vertex_ai"
  },
  "language_info": {
   "codemirror_mode": {
    "name": "ipython",
    "version": 3
   },
   "file_extension": ".py",
   "mimetype": "text/x-python",
   "name": "python",
   "nbconvert_exporter": "python",
   "pygments_lexer": "ipython3",
   "version": "3.11.9"
  }
 },
 "nbformat": 4,
 "nbformat_minor": 5
}
